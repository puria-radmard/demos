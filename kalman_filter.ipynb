{
 "cells": [
  {
   "cell_type": "markdown",
   "metadata": {},
   "source": [
    "# Standard Kalman filter (4F7)"
   ]
  },
  {
   "cell_type": "code",
   "execution_count": 2,
   "metadata": {},
   "outputs": [],
   "source": [
    "import torch\n",
    "import matplotlib.pyplot as plt\n",
    "\n",
    "from purias_utils.ssm.process.linear import LinearStateSpaceModel\n",
    "from purias_utils.ssm.process.noise import WhiteNoise\n",
    "from purias_utils.ssm.process.base import FlatProcess, ProcessGroup"
   ]
  },
  {
   "cell_type": "markdown",
   "metadata": {},
   "source": [
    "Standard 2D movement, with acceleration in each direction drawn from Brownian motion\n",
    "\n",
    "State: $\\boldsymbol x = (x, y, \\dot x, \\dot y)$"
   ]
  },
  {
   "cell_type": "code",
   "execution_count": 9,
   "metadata": {},
   "outputs": [],
   "source": [
    "device = 'cpu'\n",
    "\n",
    "dt = 0.005\n",
    "\n",
    "dynamics_matrix_process = FlatProcess(torch.tensor(\n",
    "    [\n",
    "        [1., 0., dt, 0.],       # x  = x + x' dt + ...\n",
    "        [0., 1., 0., dt],\n",
    "        [0., 0., 1., 0.],       # x' = x' + ...\n",
    "        [0., 0., 0., 1.],\n",
    "    ]\n",
    "))\n",
    "\n",
    "input_dynamics_matrix = 3 * torch.tensor(   # 3 times for good measure!\n",
    "    [\n",
    "        [0.5*dt**2,  0.],        # ... 0.5 x'' dt^2\n",
    "        [0., 0.5*dt**2.],\n",
    "        [dt,         0.],        # ... x'' dt\n",
    "        [0.,         dt],\n",
    "    ]\n",
    ")\n",
    "\n",
    "# Convert the input_dynamics_matrix into a covariance for our white noise\n",
    "random_acceleration_cholesky = torch.linalg.cholesky(\n",
    "    (torch.eye(4) * 1e-11) + (input_dynamics_matrix @ input_dynamics_matrix.T)\n",
    ")\n",
    "random_acceleration_process = WhiteNoise(\n",
    "    N_matrix = random_acceleration_cholesky, output_magnitude=1.0, device = device\n",
    ")\n",
    "\n",
    "state_process = LinearStateSpaceModel(\n",
    "    dynamics_matrix_process = dynamics_matrix_process,\n",
    "    noise_process = random_acceleration_process,\n",
    "    value_offset_process = FlatProcess(0.0),\n",
    "    input_process = FlatProcess(0.0)\n",
    ")\n",
    "\n",
    "# Only view the location part of the state\n",
    "state_only_viewer_process = FlatProcess(torch.tensor(\n",
    "    [\n",
    "        [1., 0., 0., 0.],\n",
    "        [0., 1., 0., 0.]\n",
    "    ]\n",
    "))\n",
    "\n",
    "observation_noise_process = WhiteNoise(\n",
    "    N_matrix = 0.1 * torch.eye(2),\n",
    "    output_magnitude=1.0, \n",
    "    device = device\n",
    ")\n",
    "\n",
    "observation_process = (state_only_viewer_process @ state_process) + observation_noise_process\n",
    "\n",
    "random_acceleration_process.reinitialise(random_acceleration_process.N_matrix @ torch.randn(4))\n",
    "state_process.reinitialise(torch.zeros(4))\n",
    "observation_noise_process.reinitialise(torch.zeros(2))\n",
    "\n",
    "\n",
    "pre_update_processes = ProcessGroup([\n",
    "    dynamics_matrix_process,\n",
    "    state_only_viewer_process\n",
    "])\n",
    "\n",
    "\n",
    "post_update_processes = ProcessGroup([\n",
    "    random_acceleration_process,\n",
    "    state_process,\n",
    "    observation_noise_process,\n",
    "    observation_process\n",
    "])"
   ]
  },
  {
   "cell_type": "markdown",
   "metadata": {},
   "source": [
    "Now we can infer states with the Kalman filter"
   ]
  },
  {
   "cell_type": "code",
   "execution_count": 10,
   "metadata": {},
   "outputs": [],
   "source": [
    "from purias_utils.ssm.kalman_filter import NonBayesianKalmanFilter\n",
    "from tqdm import tqdm"
   ]
  },
  {
   "cell_type": "code",
   "execution_count": 11,
   "metadata": {},
   "outputs": [
    {
     "name": "stderr",
     "output_type": "stream",
     "text": [
      "100%|██████████| 500/500 [00:00<00:00, 4023.18it/s]\n"
     ]
    },
    {
     "data": {
      "text/plain": [
       "[<matplotlib.lines.Line2D at 0x7f8aa8c18ca0>]"
      ]
     },
     "execution_count": 11,
     "metadata": {},
     "output_type": "execute_result"
    },
    {
     "data": {
      "image/png": "[encoded data removed]",
      "text/plain": [
       "<Figure size 432x288 with 1 Axes>"
      ]
     },
     "metadata": {
      "needs_background": "light"
     },
     "output_type": "display_data"
    }
   ],
   "source": [
    "\n",
    "trace = []\n",
    "observations = []\n",
    "estimations = []\n",
    "\n",
    "kalman_filter = NonBayesianKalmanFilter(\n",
    "    initial_estimate = state_process.previous_value,\n",
    "    initial_state_estimate_covariance = torch.zeros(state_process.previous_value.shape[0], state_process.previous_value.shape[0]),\n",
    "    fn_process = dynamics_matrix_process,\n",
    "    gn_process = state_only_viewer_process,\n",
    "    qn_process = random_acceleration_process,\n",
    "    rn_process = observation_noise_process,\n",
    "    observation_process = observation_process,\n",
    ")\n",
    "\n",
    "for i in tqdm(range(500)):\n",
    "\n",
    "    pre_update_processes()\n",
    "\n",
    "    kalman_filter.pre_update_step()\n",
    "\n",
    "    post_update_processes()\n",
    "\n",
    "    kalman_filter.post_update_step()\n",
    "\n",
    "    trace.append(state_process.previous_value[:2])\n",
    "    observations.append(observation_process.previous_value)\n",
    "    estimations.append(kalman_filter.state_estimate[:2])\n",
    "\n",
    "plt.plot(*torch.stack(trace, 1).numpy(), linewidth = 2, color = 'red', alpha = 0.5)\n",
    "plt.scatter(*torch.stack(observations, 1).numpy(), s = 6, color = 'black')\n",
    "plt.plot(*torch.stack(estimations, 1).numpy(), linewidth = 2, color = 'blue', linestyle='--', alpha = 0.5)\n"
   ]
  },
  {
   "cell_type": "code",
   "execution_count": null,
   "metadata": {},
   "outputs": [],
   "source": []
  }
 ],
 "metadata": {
  "kernelspec": {
   "display_name": "Python 3.9.12 ('base')",
   "language": "python",
   "name": "python3"
  },
  "language_info": {
   "codemirror_mode": {
    "name": "ipython",
    "version": 3
   },
   "file_extension": ".py",
   "mimetype": "text/x-python",
   "name": "python",
   "nbconvert_exporter": "python",
   "pygments_lexer": "ipython3",
   "version": "3.9.12"
  },
  "orig_nbformat": 4,
  "vscode": {
   "interpreter": {
    "hash": "45e8490cdb81800a4b2cc4793a5be0c5a4434a4e9eb8e3a899fad43542c03152"
   }
  }
 },
 "nbformat": 4,
 "nbformat_minor": 2
}
